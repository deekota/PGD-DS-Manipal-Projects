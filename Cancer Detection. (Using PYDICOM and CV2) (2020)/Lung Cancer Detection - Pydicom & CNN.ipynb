{
 "cells": [
  {
   "cell_type": "code",
   "execution_count": 2,
   "metadata": {},
   "outputs": [],
   "source": [
    "import pandas as pd\n",
    "import pydicom\n",
    "import cv2\n",
    "import os"
   ]
  },
  {
   "cell_type": "code",
   "execution_count": 3,
   "metadata": {},
   "outputs": [],
   "source": [
    "df=pd.read_csv('SCseeds.csv')\n",
    "#df.head()\n",
    "\n",
    "base='C:/Users/DELL/Desktop/Manipal/AI/pjt/lung-cancer-project/lung-cancer/SC-20090526/'\n",
    "target_path='C:/Users/DELL/Desktop/Manipal/AI/pjt/lung-cancer-project/Seggregated Results/Cancerous/'\n",
    "target_path_2='C:/Users/DELL/Desktop/Manipal/AI/pjt/lung-cancer-project/Seggregated Results/Non Cancerous/'\n",
    "case=list(df['case'])\n",
    "UID_1=list(df['study1UID'])\n",
    "UID_2=list(df['study2UID'])\n",
    "#common_folder='S02A01'\n",
    "#common_folder_2='S02A10'\n",
    "#common_folder_3='S02A02'\n",
    "\n",
    "slice_id=list(df['slicesopid1'])\n",
    "z1=list(df['z1'])\n",
    "z2=list(df['z2'])\n",
    "y=[]\n",
    "k=0\n",
    "\n",
    "# Cancerous seggregation\n",
    "for i in range(len(df)):\n",
    "    common_folder_1=os.listdir(os.path.join(base,str(case[i])+'/',str(UID_1[i])+'/'))\n",
    "    common_folder_2=os.listdir(os.path.join(base,str(case[i])+'/',str(UID_2[i])+'/'))\n",
    "    dcm_img_path_1=os.path.join(base,str(case[i])+'/',str(UID_1[i])+'/',common_folder_1[0]+'/')\n",
    "    dcm_img_path_2=os.path.join(base,str(case[i])+'/',str(UID_2[i])+'/',common_folder_2[0]+'/')\n",
    "    list_dcm_img_1=os.listdir(dcm_img_path_1)\n",
    "    list_dcm_img_2=os.listdir(dcm_img_path_2)                             \n",
    "    ls=[list_dcm_img_1,list_dcm_img_2]\n",
    "    j=0\n",
    "    # For cancerour images\n",
    "    #for list_dcm_img in ls:\n",
    "    z1_1=z1[i]\n",
    "    z2_2=z2[i]\n",
    "    #j=j+1\n",
    "    if z1_1 > 3 and len(list_dcm_img_1)-z1_1 >= 2:\n",
    "        for p in range(3):\n",
    "            if p == 0:\n",
    "                dcm_fileset=pydicom.dcmread(os.path.join(dcm_img_path_1,list_dcm_img_1[z1_1-1]))\n",
    "                pixel_array=dcm_fileset.pixel_array\n",
    "                x=list_dcm_img_1[z1_1-1].replace('.dcm','.jpg')\n",
    "                tp=target_path+x\n",
    "                cv2.imwrite(tp,pixel_array)\n",
    "               \n",
    "            else:\n",
    "                dcm_fileset=pydicom.dcmread(os.path.join(dcm_img_path_1,list_dcm_img_1[z1_1-1-p]))\n",
    "                pixel_array=dcm_fileset.pixel_array\n",
    "                x=list_dcm_img_1[z1_1-1-p].replace('.dcm','.jpg')\n",
    "                tp=target_path+x\n",
    "                cv2.imwrite(tp,pixel_array)\n",
    "                \n",
    "                dcm_fileset=pydicom.dcmread(os.path.join(dcm_img_path_1,list_dcm_img_1[z1_1-1+p]))\n",
    "                pixel_array=dcm_fileset.pixel_array\n",
    "                x=list_dcm_img_1[z1_1-1+p].replace('.dcm','.jpg')\n",
    "                tp=target_path+x\n",
    "                cv2.imwrite(tp,pixel_array)\n",
    "\n",
    "\n",
    "    else:\n",
    "        if z1_1 <3:\n",
    "            t=len(list_dcm_img_1)\n",
    "            for p in range(t+2):\n",
    "                dcm_fileset=pydicom.dcmread(os.path.join(dcm_img_path_1,list_dcm_img_1[p]))\n",
    "                pixel_array=dcm_fileset.pixel_array\n",
    "                x=list_dcm_img_1[p].replace('.dcm','.jpg')\n",
    "                tp=target_path+x\n",
    "                cv2.imwrite(tp,pixel_array)\n",
    "            \n",
    "        else:\n",
    "            for p in range((len(list_dcm_img_1)-2),len(list_dcm_img_1)):\n",
    "                dcm_fileset=pydicom.dcmread(os.path.join(dcm_img_path_1,list_dcm_img_1[p]))\n",
    "                pixel_array=dcm_fileset.pixel_array\n",
    "                x=list_dcm_img_1[p].replace('.dcm','.jpg')\n",
    "                tp=target_path+x\n",
    "                cv2.imwrite(tp,pixel_array) \n",
    "    \n",
    "    \n",
    "##   2nd study\n",
    "    if z2_2 > 3 and len(list_dcm_img_2)-z2_2 >= 2:\n",
    "        for p in range(3):\n",
    "            if p == 0:\n",
    "                dcm_fileset=pydicom.dcmread(os.path.join(dcm_img_path_2,list_dcm_img_2[z2_2-1]))\n",
    "                pixel_array=dcm_fileset.pixel_array\n",
    "                x=list_dcm_img_2[z2_2-1].replace('.dcm','.jpg')\n",
    "                tp=target_path+x\n",
    "                cv2.imwrite(tp,pixel_array)\n",
    "               \n",
    "            else:\n",
    "                dcm_fileset=pydicom.dcmread(os.path.join(dcm_img_path_2,list_dcm_img_2[z2_2-1-p]))\n",
    "                pixel_array=dcm_fileset.pixel_array\n",
    "                x=list_dcm_img_2[z2_2-1-p].replace('.dcm','.jpg')\n",
    "                tp=target_path+x\n",
    "                cv2.imwrite(tp,pixel_array)\n",
    "                \n",
    "                dcm_fileset=pydicom.dcmread(os.path.join(dcm_img_path_2,list_dcm_img_2[z2_2-1+p]))\n",
    "                pixel_array=dcm_fileset.pixel_array\n",
    "                x=list_dcm_img_2[z2_2-1+p].replace('.dcm','.jpg')\n",
    "                tp=target_path+x\n",
    "                cv2.imwrite(tp,pixel_array)\n",
    "\n",
    "\n",
    "    else:\n",
    "        if z2_2 <3:\n",
    "            t=len(list_dcm_img_2)\n",
    "            for p in range(t+2):\n",
    "                dcm_fileset=pydicom.dcmread(os.path.join(dcm_img_path_2,list_dcm_img_2[p]))\n",
    "                pixel_array=dcm_fileset.pixel_array\n",
    "                x=list_dcm_img_2[p].replace('.dcm','.jpg')\n",
    "                tp=target_path+x\n",
    "                cv2.imwrite(tp,pixel_array)\n",
    "            \n",
    "        else:\n",
    "            for p in range((len(list_dcm_img_2)-2),len(list_dcm_img_2)):\n",
    "                dcm_fileset=pydicom.dcmread(os.path.join(dcm_img_path_2,list_dcm_img_2[p]))\n",
    "                pixel_array=dcm_fileset.pixel_array\n",
    "                x=list_dcm_img_2[p].replace('.dcm','.jpg')\n",
    "                tp=target_path+x\n",
    "                cv2.imwrite(tp,pixel_array)\n"
   ]
  },
  {
   "cell_type": "code",
   "execution_count": 4,
   "metadata": {},
   "outputs": [],
   "source": [
    "#Non cancerous seggra\n",
    "\n",
    "for i in range(len(df)):\n",
    "    common_folder_1=os.listdir(os.path.join(base,str(case[i])+'/',str(UID_1[i])+'/'))\n",
    "    common_folder_2=os.listdir(os.path.join(base,str(case[i])+'/',str(UID_2[i])+'/'))\n",
    "    dcm_img_path_1=os.path.join(base,str(case[i])+'/',str(UID_1[i])+'/',common_folder_1[0]+'/')\n",
    "    dcm_img_path_2=os.path.join(base,str(case[i])+'/',str(UID_2[i])+'/',common_folder_2[0]+'/')\n",
    "    list_dcm_img_1=os.listdir(dcm_img_path_1)\n",
    "    list_dcm_img_2=os.listdir(dcm_img_path_2)                             \n",
    "    ls=[list_dcm_img_1,list_dcm_img_2]\n",
    "    ls1=[]\n",
    "    ls2=[]\n",
    "    j=0\n",
    "\n",
    "    #for list_dcm_img in ls:\n",
    "    z1_1=z1[i]\n",
    "    z2_2=z2[i]\n",
    "    #j=j+1\n",
    "    # For non cancerour images study 1\n",
    "    if z1_1 > 3 and len(list_dcm_img_1)-z1_1 >= 2:\n",
    "        for p in range(3):\n",
    "            if p == 0:\n",
    "                ls1=ls1+[z1_1-1]\n",
    "               \n",
    "            else:\n",
    "                ls1=ls1+[z1_1-1-p]\n",
    "                ls1=ls1+[z1_1-1+p]\n",
    "\n",
    "\n",
    "    else:\n",
    "        if z1_1 <3:\n",
    "            t=len(list_dcm_img_1)\n",
    "            for p in range(t+2):\n",
    "                ls1=ls1+[p]\n",
    "            \n",
    "        else:\n",
    "            for p in range((len(list_dcm_img_1)-2),len(list_dcm_img_1)):\n",
    "                ls1=ls1+[p]\n",
    "    for q in range(len(list_dcm_img_1)):\n",
    "        if q not in ls1:\n",
    "            dcm_fileset=pydicom.dcmread(os.path.join(dcm_img_path_1,list_dcm_img_1[q]),force=True)\n",
    "            pixel_array=dcm_fileset.pixel_array\n",
    "            x=list_dcm_img_1[q].replace('.dcm','.jpg')\n",
    "            tp=target_path_2+x\n",
    "            cv2.imwrite(tp,pixel_array)\n",
    "            \n",
    "####\n",
    "\n",
    "    # For non cancerour images study 2\n",
    "    if z2_2 > 3 and len(list_dcm_img_2)-z2_2 >= 2:\n",
    "        for p in range(3):\n",
    "            if p == 0:\n",
    "                ls2=ls2+[z2_2-1]\n",
    "               \n",
    "            else:\n",
    "                ls2=ls2+[z2_2-1-p]\n",
    "                ls2=ls2+[z2_2-1+p]\n",
    "\n",
    "\n",
    "    else:\n",
    "        if z2_2 <3:\n",
    "            t=len(list_dcm_img_2)\n",
    "            for p in range(t+2):\n",
    "                ls2=ls2+[p]\n",
    "            \n",
    "        else:\n",
    "            for p in range((len(list_dcm_img_2)-2),len(list_dcm_img_2)):\n",
    "                ls2=ls2+[p]\n",
    "    for q in range(len(list_dcm_img_2)):\n",
    "        if q not in ls2:\n",
    "            dcm_fileset=pydicom.dcmread(os.path.join(dcm_img_path_2,list_dcm_img_2[q]),force=True)\n",
    "            pixel_array=dcm_fileset.pixel_array\n",
    "            x=list_dcm_img_2[q].replace('.dcm','.jpg')\n",
    "            tp=target_path_2+x\n",
    "            cv2.imwrite(tp,pixel_array)"
   ]
  },
  {
   "cell_type": "code",
   "execution_count": 6,
   "metadata": {},
   "outputs": [],
   "source": [
    "##Import libraries\n",
    "from keras.models import Sequential\n",
    "from keras.layers import Conv2D\n",
    "from keras.layers import MaxPooling2D\n",
    "from keras.layers import Flatten\n",
    "from keras.layers import Dense"
   ]
  },
  {
   "cell_type": "code",
   "execution_count": 7,
   "metadata": {},
   "outputs": [],
   "source": [
    "## Initialising the CNN\n",
    "classifier = Sequential()"
   ]
  },
  {
   "cell_type": "code",
   "execution_count": 8,
   "metadata": {},
   "outputs": [
    {
     "name": "stdout",
     "output_type": "stream",
     "text": [
      "WARNING:tensorflow:From C:\\Users\\DELL\\Anaconda3\\lib\\site-packages\\keras\\backend\\tensorflow_backend.py:4070: The name tf.nn.max_pool is deprecated. Please use tf.nn.max_pool2d instead.\n",
      "\n"
     ]
    }
   ],
   "source": [
    "## Convolution(64 feature detector of dimension 3 by 3), input shape 3 layer for color image)\n",
    "classifier.add(Conv2D(64,(3,3),input_shape = (64,64,3), activation = 'relu'))\n",
    "## MaxPooling\n",
    "classifier.add(MaxPooling2D(pool_size = (2,2)))\n",
    "\n",
    "## Add another layer\n",
    "classifier.add(Conv2D(64,(3,3), activation = 'relu'))\n",
    "classifier.add(MaxPooling2D(pool_size = (2,2)))\n",
    "\n",
    "## Add another layer\n",
    "classifier.add(Conv2D(64,(3,3), activation = 'relu'))\n",
    "classifier.add(MaxPooling2D(pool_size = (2,2)))"
   ]
  },
  {
   "cell_type": "code",
   "execution_count": 9,
   "metadata": {},
   "outputs": [],
   "source": [
    "## Flattening\n",
    "classifier.add(Flatten())"
   ]
  },
  {
   "cell_type": "code",
   "execution_count": 10,
   "metadata": {},
   "outputs": [],
   "source": [
    "## Fully connected ANN, Hidden ANN and output layer\n",
    "classifier.add(Dense(units = 128, activation = 'relu'))"
   ]
  },
  {
   "cell_type": "code",
   "execution_count": 11,
   "metadata": {},
   "outputs": [],
   "source": [
    "#output layer\n",
    "classifier.add(Dense(units = 1, activation = 'sigmoid'))"
   ]
  },
  {
   "cell_type": "code",
   "execution_count": 12,
   "metadata": {},
   "outputs": [
    {
     "name": "stdout",
     "output_type": "stream",
     "text": [
      "WARNING:tensorflow:From C:\\Users\\DELL\\Anaconda3\\lib\\site-packages\\tensorflow\\python\\ops\\nn_impl.py:180: add_dispatch_support.<locals>.wrapper (from tensorflow.python.ops.array_ops) is deprecated and will be removed in a future version.\n",
      "Instructions for updating:\n",
      "Use tf.where in 2.0, which has the same broadcast rule as np.where\n"
     ]
    }
   ],
   "source": [
    "## Compliling\n",
    "classifier.compile(optimizer = 'adam', loss = 'binary_crossentropy', metrics = ['accuracy'])"
   ]
  },
  {
   "cell_type": "code",
   "execution_count": 13,
   "metadata": {},
   "outputs": [
    {
     "name": "stdout",
     "output_type": "stream",
     "text": [
      "Model: \"sequential_1\"\n",
      "_________________________________________________________________\n",
      "Layer (type)                 Output Shape              Param #   \n",
      "=================================================================\n",
      "conv2d_1 (Conv2D)            (None, 62, 62, 64)        1792      \n",
      "_________________________________________________________________\n",
      "max_pooling2d_1 (MaxPooling2 (None, 31, 31, 64)        0         \n",
      "_________________________________________________________________\n",
      "conv2d_2 (Conv2D)            (None, 29, 29, 64)        36928     \n",
      "_________________________________________________________________\n",
      "max_pooling2d_2 (MaxPooling2 (None, 14, 14, 64)        0         \n",
      "_________________________________________________________________\n",
      "conv2d_3 (Conv2D)            (None, 12, 12, 64)        36928     \n",
      "_________________________________________________________________\n",
      "max_pooling2d_3 (MaxPooling2 (None, 6, 6, 64)          0         \n",
      "_________________________________________________________________\n",
      "flatten_1 (Flatten)          (None, 2304)              0         \n",
      "_________________________________________________________________\n",
      "dense_1 (Dense)              (None, 128)               295040    \n",
      "_________________________________________________________________\n",
      "dense_2 (Dense)              (None, 1)                 129       \n",
      "=================================================================\n",
      "Total params: 370,817\n",
      "Trainable params: 370,817\n",
      "Non-trainable params: 0\n",
      "_________________________________________________________________\n"
     ]
    }
   ],
   "source": [
    "classifier.summary()"
   ]
  },
  {
   "cell_type": "code",
   "execution_count": 14,
   "metadata": {},
   "outputs": [],
   "source": [
    "## data importing and transforming and scaling\n",
    "from keras.preprocessing.image import ImageDataGenerator\n",
    "train_datagen = ImageDataGenerator(rescale=1./255)"
   ]
  },
  {
   "cell_type": "code",
   "execution_count": 15,
   "metadata": {},
   "outputs": [],
   "source": [
    "## data importing and transforming and scaling\n",
    "from keras.preprocessing.image import ImageDataGenerator\n",
    "train_datagen = ImageDataGenerator(rescale=1./255\n",
    "                                  ,shear_range=0.2\n",
    "                                  ,zoom_range=0.2\n",
    "                                  ,horizontal_flip=True)"
   ]
  },
  {
   "cell_type": "code",
   "execution_count": 16,
   "metadata": {},
   "outputs": [],
   "source": [
    "## Scaling test data\n",
    "##no  data augmentation\n",
    "test_datagen = ImageDataGenerator(rescale=1./255)"
   ]
  },
  {
   "cell_type": "code",
   "execution_count": 21,
   "metadata": {},
   "outputs": [
    {
     "name": "stdout",
     "output_type": "stream",
     "text": [
      "Found 1958 images belonging to 2 classes.\n"
     ]
    }
   ],
   "source": [
    "## Importing training data\n",
    "train_set = train_datagen.flow_from_directory('C:/Users/DELL/Desktop/Manipal/AI/pjt/lung-cancer-project/training',\n",
    "                                               target_size=(64, 64),\n",
    "                                               \n",
    "                                               class_mode='binary')"
   ]
  },
  {
   "cell_type": "code",
   "execution_count": 22,
   "metadata": {},
   "outputs": [
    {
     "data": {
      "text/plain": [
       "{'Cancerous': 0, 'Non Cancerous': 1}"
      ]
     },
     "execution_count": 22,
     "metadata": {},
     "output_type": "execute_result"
    }
   ],
   "source": [
    "train_set.class_indices"
   ]
  },
  {
   "cell_type": "code",
   "execution_count": 23,
   "metadata": {},
   "outputs": [
    {
     "name": "stdout",
     "output_type": "stream",
     "text": [
      "{'Cancerous': 0, 'Non Cancerous': 1}\n"
     ]
    }
   ],
   "source": [
    "#which is ?\n",
    "label_map = (train_set.class_indices)\n",
    "print(label_map)"
   ]
  },
  {
   "cell_type": "code",
   "execution_count": 24,
   "metadata": {},
   "outputs": [
    {
     "name": "stdout",
     "output_type": "stream",
     "text": [
      "Found 71 images belonging to 2 classes.\n"
     ]
    }
   ],
   "source": [
    "## Importng test data\n",
    "test_set = test_datagen.flow_from_directory('C:/Users/DELL/Desktop/Manipal/AI/pjt/lung-cancer-project/testing',\n",
    "                                            target_size=(64, 64),\n",
    "                                            \n",
    "                                            class_mode='binary')"
   ]
  },
  {
   "cell_type": "code",
   "execution_count": 26,
   "metadata": {},
   "outputs": [
    {
     "name": "stdout",
     "output_type": "stream",
     "text": [
      "Epoch 1/5\n",
      "62/62 [==============================] - 34s 548ms/step - loss: 0.5563 - accuracy: 0.7646 - val_loss: 1.5722 - val_accuracy: 0.5775\n",
      "Epoch 2/5\n",
      "62/62 [==============================] - 35s 562ms/step - loss: 0.5475 - accuracy: 0.7646 - val_loss: 1.5639 - val_accuracy: 0.5775\n",
      "Epoch 3/5\n",
      "62/62 [==============================] - 34s 549ms/step - loss: 0.5441 - accuracy: 0.7646 - val_loss: 1.6521 - val_accuracy: 0.5775\n",
      "Epoch 4/5\n",
      "62/62 [==============================] - 34s 543ms/step - loss: 0.5475 - accuracy: 0.7646 - val_loss: 0.6917 - val_accuracy: 0.5775\n",
      "Epoch 5/5\n",
      "62/62 [==============================] - 31s 493ms/step - loss: 0.5471 - accuracy: 0.7646 - val_loss: 1.9530 - val_accuracy: 0.5775\n"
     ]
    },
    {
     "data": {
      "text/plain": [
       "<keras.callbacks.callbacks.History at 0x1e1691d5dc8>"
      ]
     },
     "execution_count": 26,
     "metadata": {},
     "output_type": "execute_result"
    }
   ],
   "source": [
    "## fitting model to images\n",
    "classifier.fit_generator(\n",
    "        train_set,\n",
    "        epochs=5,\n",
    "        validation_data=test_set\n",
    "        )"
   ]
  },
  {
   "cell_type": "code",
   "execution_count": null,
   "metadata": {},
   "outputs": [],
   "source": []
  }
 ],
 "metadata": {
  "kernelspec": {
   "display_name": "Python 3",
   "language": "python",
   "name": "python3"
  },
  "language_info": {
   "codemirror_mode": {
    "name": "ipython",
    "version": 3
   },
   "file_extension": ".py",
   "mimetype": "text/x-python",
   "name": "python",
   "nbconvert_exporter": "python",
   "pygments_lexer": "ipython3",
   "version": "3.7.5"
  }
 },
 "nbformat": 4,
 "nbformat_minor": 2
}
