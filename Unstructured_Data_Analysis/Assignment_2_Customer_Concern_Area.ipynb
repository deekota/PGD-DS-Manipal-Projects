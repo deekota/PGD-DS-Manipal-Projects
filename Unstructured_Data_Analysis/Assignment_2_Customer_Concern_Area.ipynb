{
 "cells": [
  {
   "cell_type": "code",
   "execution_count": 1,
   "metadata": {},
   "outputs": [
    {
     "name": "stderr",
     "output_type": "stream",
     "text": [
      "C:\\Users\\kotad\\Anaconda3\\lib\\site-packages\\ipykernel_launcher.py:4: SettingWithCopyWarning: \n",
      "A value is trying to be set on a copy of a slice from a DataFrame\n",
      "\n",
      "See the caveats in the documentation: http://pandas.pydata.org/pandas-docs/stable/indexing.html#indexing-view-versus-copy\n",
      "  after removing the cwd from sys.path.\n"
     ]
    },
    {
     "data": {
      "text/html": [
       "<div>\n",
       "<style scoped>\n",
       "    .dataframe tbody tr th:only-of-type {\n",
       "        vertical-align: middle;\n",
       "    }\n",
       "\n",
       "    .dataframe tbody tr th {\n",
       "        vertical-align: top;\n",
       "    }\n",
       "\n",
       "    .dataframe thead th {\n",
       "        text-align: right;\n",
       "    }\n",
       "</style>\n",
       "<table border=\"1\" class=\"dataframe\">\n",
       "  <thead>\n",
       "    <tr style=\"text-align: right;\">\n",
       "      <th></th>\n",
       "      <th>overall</th>\n",
       "      <th>reviewText</th>\n",
       "      <th>summary</th>\n",
       "    </tr>\n",
       "  </thead>\n",
       "  <tbody>\n",
       "    <tr>\n",
       "      <th>0</th>\n",
       "      <td>5</td>\n",
       "      <td>We got this GPS for my husband who is an (OTR)...</td>\n",
       "      <td>Gotta have GPS!</td>\n",
       "    </tr>\n",
       "    <tr>\n",
       "      <th>1</th>\n",
       "      <td>1</td>\n",
       "      <td>I'm a professional OTR truck driver, and I bou...</td>\n",
       "      <td>Very Disappointed</td>\n",
       "    </tr>\n",
       "    <tr>\n",
       "      <th>2</th>\n",
       "      <td>3</td>\n",
       "      <td>Well, what can I say.  I've had this unit in m...</td>\n",
       "      <td>1st impression</td>\n",
       "    </tr>\n",
       "    <tr>\n",
       "      <th>3</th>\n",
       "      <td>2</td>\n",
       "      <td>Not going to write a long review, even thought...</td>\n",
       "      <td>Great grafics, POOR GPS</td>\n",
       "    </tr>\n",
       "    <tr>\n",
       "      <th>4</th>\n",
       "      <td>1</td>\n",
       "      <td>I've had mine for a year and here's what we go...</td>\n",
       "      <td>Major issues, only excuses for support</td>\n",
       "    </tr>\n",
       "  </tbody>\n",
       "</table>\n",
       "</div>"
      ],
      "text/plain": [
       "   overall                                         reviewText  \\\n",
       "0        5  We got this GPS for my husband who is an (OTR)...   \n",
       "1        1  I'm a professional OTR truck driver, and I bou...   \n",
       "2        3  Well, what can I say.  I've had this unit in m...   \n",
       "3        2  Not going to write a long review, even thought...   \n",
       "4        1  I've had mine for a year and here's what we go...   \n",
       "\n",
       "                                  summary  \n",
       "0                         Gotta have GPS!  \n",
       "1                       Very Disappointed  \n",
       "2                          1st impression  \n",
       "3                 Great grafics, POOR GPS  \n",
       "4  Major issues, only excuses for support  "
      ]
     },
     "execution_count": 1,
     "metadata": {},
     "output_type": "execute_result"
    }
   ],
   "source": [
    "import pandas as pd\n",
    "df=pd.read_excel('Customer_Concern_Areas.xlsm')\n",
    "df_features=df[['overall','reviewText','summary']]\n",
    "df_features.dropna(inplace=True)\n",
    "df_features.head()"
   ]
  },
  {
   "cell_type": "markdown",
   "metadata": {},
   "source": [
    "### User Defined Functions:"
   ]
  },
  {
   "cell_type": "code",
   "execution_count": 2,
   "metadata": {},
   "outputs": [],
   "source": [
    "import nltk\n",
    "import pandas as pd\n",
    "import numpy as np\n",
    "from nltk.corpus import stopwords\n",
    "from string import punctuation\n",
    "from sklearn.feature_extraction.text import TfidfVectorizer\n",
    "from sklearn.feature_extraction.text import CountVectorizer\n",
    "from nltk.tokenize import word_tokenize\n",
    "from nltk.stem import WordNetLemmatizer\n",
    "from nltk.sentiment.vader import SentimentIntensityAnalyzer\n",
    "\n",
    "# UDF of Data Cleaning:\n",
    "def clean_text(st):\n",
    "    stopwords_update=stopwords.words('english')+list(punctuation)\n",
    "    try:\n",
    "        clean_ls=[i for i in word_tokenize(st.lower()) if i not in stopwords_update]\n",
    "        return(' '.join(clean_ls))\n",
    "    except:\n",
    "        pass\n",
    "    \n",
    "# UDF for Lemmatization:\n",
    "def lemma(st):\n",
    "    lemma=WordNetLemmatizer()\n",
    "    try:\n",
    "        lem_st=[lemma.lemmatize(i) for i in st.split()]\n",
    "        return(' '.join(lem_st))\n",
    "    except:\n",
    "        pass\n",
    "\n",
    "# UDF for Vectorization:\n",
    "def vector_Tfidf(df_col,grams_min,grams_max,max_fea):\n",
    "    tf=TfidfVectorizer(ngram_range=(grams_min,grams_max),max_features=max_fea)\n",
    "    tf_df=pd.DataFrame(tf.fit_transform(df_col).toarray(),columns=tf.get_feature_names())\n",
    "    return(tf_df)\n",
    "\n",
    "def vector_count(df_col,grams_min,grams_max,max_fea):\n",
    "    tf=CountVectorizer(ngram_range=(grams_min,grams_max),max_features=max_fea)\n",
    "    tf_df=pd.DataFrame(tf.fit_transform(df_col).toarray(),columns=tf.get_feature_names())\n",
    "    return(tf_df)\n",
    "\n",
    "# UDF for Sentiment score:\n",
    "def sentiment(df_col):\n",
    "    ls_sent=[]\n",
    "    for i in range(len(df_col)):\n",
    "        analyzer=SentimentIntensityAnalyzer()\n",
    "        ls_sent.append(analyzer.polarity_scores(df_col.iloc[i])['compound'])\n",
    "    return(ls_sent)\n"
   ]
  },
  {
   "cell_type": "markdown",
   "metadata": {},
   "source": [
    "### 1.Clean the data"
   ]
  },
  {
   "cell_type": "code",
   "execution_count": 3,
   "metadata": {},
   "outputs": [
    {
     "data": {
      "text/html": [
       "<div>\n",
       "<style scoped>\n",
       "    .dataframe tbody tr th:only-of-type {\n",
       "        vertical-align: middle;\n",
       "    }\n",
       "\n",
       "    .dataframe tbody tr th {\n",
       "        vertical-align: top;\n",
       "    }\n",
       "\n",
       "    .dataframe thead th {\n",
       "        text-align: right;\n",
       "    }\n",
       "</style>\n",
       "<table border=\"1\" class=\"dataframe\">\n",
       "  <thead>\n",
       "    <tr style=\"text-align: right;\">\n",
       "      <th></th>\n",
       "      <th>Clean_Review_Text</th>\n",
       "      <th>rating</th>\n",
       "      <th>Clean_Summary</th>\n",
       "    </tr>\n",
       "  </thead>\n",
       "  <tbody>\n",
       "    <tr>\n",
       "      <th>0</th>\n",
       "      <td>got gps husband otr road trucker impressed shi...</td>\n",
       "      <td>5.0</td>\n",
       "      <td>got ta gps</td>\n",
       "    </tr>\n",
       "    <tr>\n",
       "      <th>1</th>\n",
       "      <td>'m professional otr truck driver bought tnd 70...</td>\n",
       "      <td>1.0</td>\n",
       "      <td>disappointed</td>\n",
       "    </tr>\n",
       "    <tr>\n",
       "      <th>2</th>\n",
       "      <td>well say 've unit truck four day prior garmin ...</td>\n",
       "      <td>3.0</td>\n",
       "      <td>1st impression</td>\n",
       "    </tr>\n",
       "    <tr>\n",
       "      <th>3</th>\n",
       "      <td>going write long review even thought unit dese...</td>\n",
       "      <td>2.0</td>\n",
       "      <td>great grafics poor gps</td>\n",
       "    </tr>\n",
       "    <tr>\n",
       "      <th>4</th>\n",
       "      <td>'ve mine year 's got try route non truck route...</td>\n",
       "      <td>1.0</td>\n",
       "      <td>major issue excuse support</td>\n",
       "    </tr>\n",
       "  </tbody>\n",
       "</table>\n",
       "</div>"
      ],
      "text/plain": [
       "                                   Clean_Review_Text  rating  \\\n",
       "0  got gps husband otr road trucker impressed shi...     5.0   \n",
       "1  'm professional otr truck driver bought tnd 70...     1.0   \n",
       "2  well say 've unit truck four day prior garmin ...     3.0   \n",
       "3  going write long review even thought unit dese...     2.0   \n",
       "4  've mine year 's got try route non truck route...     1.0   \n",
       "\n",
       "                Clean_Summary  \n",
       "0                  got ta gps  \n",
       "1                disappointed  \n",
       "2              1st impression  \n",
       "3      great grafics poor gps  \n",
       "4  major issue excuse support  "
      ]
     },
     "execution_count": 3,
     "metadata": {},
     "output_type": "execute_result"
    }
   ],
   "source": [
    "ls_clean_text=[]\n",
    "for i in range(len(df_features)):\n",
    "    ls_clean_text.append(lemma(clean_text(df_features.iloc[i].values[1])))\n",
    "    \n",
    "df_clean=pd.DataFrame(ls_clean_text,columns=['Clean_Review_Text'])\n",
    "df_clean.dropna(inplace=True)\n",
    "#For summary column\n",
    "ls_clean_text=[]\n",
    "for i in range(len(df_features)):\n",
    "    ls_clean_text.append(lemma(clean_text(df_features.iloc[i].values[2])))\n",
    "df_clean['rating']=df_features['overall']\n",
    "df_clean['Clean_Summary']=ls_clean_text\n",
    "df_clean.head()"
   ]
  },
  {
   "cell_type": "markdown",
   "metadata": {},
   "source": [
    "### 2.\tPlot a bigram bar graph on the top words 25 words"
   ]
  },
  {
   "cell_type": "code",
   "execution_count": 8,
   "metadata": {},
   "outputs": [
    {
     "data": {
      "image/png": "[encoded data removed]",
      "text/plain": [
       "<Figure size 1440x360 with 1 Axes>"
      ]
     },
     "metadata": {
      "needs_background": "light"
     },
     "output_type": "display_data"
    }
   ],
   "source": [
    "df_bigrams=vector_count(df_clean['Clean_Review_Text'],2,2,25)\n",
    "from matplotlib import pyplot as plt\n",
    "ls_sum=[]\n",
    "d={}\n",
    "plt.figure(figsize=(20,5))\n",
    "for i in df_bigrams.columns:\n",
    "    ls_sum.append(df_bigrams[i].sum())\n",
    "    d[df_bigrams[i].sum()]=i\n",
    "d2=dict(sorted(d.items(),reverse=True))    \n",
    "plt.bar(d2.values(),d2.keys())\n",
    "plt.xticks(rotation='vertical')\n",
    "plt.show()"
   ]
  },
  {
   "cell_type": "markdown",
   "metadata": {},
   "source": [
    "### 3.Get the sentiment score and prediction"
   ]
  },
  {
   "cell_type": "code",
   "execution_count": 5,
   "metadata": {},
   "outputs": [
    {
     "name": "stdout",
     "output_type": "stream",
     "text": [
      "Accuracy between original rating an Sentiment_vader_rating 70.0\n"
     ]
    },
    {
     "data": {
      "text/html": [
       "<div>\n",
       "<style scoped>\n",
       "    .dataframe tbody tr th:only-of-type {\n",
       "        vertical-align: middle;\n",
       "    }\n",
       "\n",
       "    .dataframe tbody tr th {\n",
       "        vertical-align: top;\n",
       "    }\n",
       "\n",
       "    .dataframe thead th {\n",
       "        text-align: right;\n",
       "    }\n",
       "</style>\n",
       "<table border=\"1\" class=\"dataframe\">\n",
       "  <thead>\n",
       "    <tr style=\"text-align: right;\">\n",
       "      <th></th>\n",
       "      <th>Clean_Review_Text</th>\n",
       "      <th>rating</th>\n",
       "      <th>Clean_Summary</th>\n",
       "      <th>Sentiment_Score</th>\n",
       "      <th>original_rating_class</th>\n",
       "      <th>Rating_Sent_vader</th>\n",
       "    </tr>\n",
       "  </thead>\n",
       "  <tbody>\n",
       "    <tr>\n",
       "      <th>0</th>\n",
       "      <td>got gps husband otr road trucker impressed shi...</td>\n",
       "      <td>5</td>\n",
       "      <td>got ta gps</td>\n",
       "      <td>0.9834</td>\n",
       "      <td>1</td>\n",
       "      <td>1</td>\n",
       "    </tr>\n",
       "    <tr>\n",
       "      <th>1</th>\n",
       "      <td>'m professional otr truck driver bought tnd 70...</td>\n",
       "      <td>1</td>\n",
       "      <td>disappointed</td>\n",
       "      <td>-0.3895</td>\n",
       "      <td>0</td>\n",
       "      <td>0</td>\n",
       "    </tr>\n",
       "    <tr>\n",
       "      <th>2</th>\n",
       "      <td>well say 've unit truck four day prior garmin ...</td>\n",
       "      <td>3</td>\n",
       "      <td>1st impression</td>\n",
       "      <td>0.9853</td>\n",
       "      <td>0</td>\n",
       "      <td>1</td>\n",
       "    </tr>\n",
       "    <tr>\n",
       "      <th>3</th>\n",
       "      <td>going write long review even thought unit dese...</td>\n",
       "      <td>2</td>\n",
       "      <td>great grafics poor gps</td>\n",
       "      <td>0.1533</td>\n",
       "      <td>0</td>\n",
       "      <td>1</td>\n",
       "    </tr>\n",
       "    <tr>\n",
       "      <th>4</th>\n",
       "      <td>'ve mine year 's got try route non truck route...</td>\n",
       "      <td>1</td>\n",
       "      <td>major issue excuse support</td>\n",
       "      <td>-0.7845</td>\n",
       "      <td>0</td>\n",
       "      <td>0</td>\n",
       "    </tr>\n",
       "  </tbody>\n",
       "</table>\n",
       "</div>"
      ],
      "text/plain": [
       "                                   Clean_Review_Text  rating  \\\n",
       "0  got gps husband otr road trucker impressed shi...       5   \n",
       "1  'm professional otr truck driver bought tnd 70...       1   \n",
       "2  well say 've unit truck four day prior garmin ...       3   \n",
       "3  going write long review even thought unit dese...       2   \n",
       "4  've mine year 's got try route non truck route...       1   \n",
       "\n",
       "                Clean_Summary  Sentiment_Score  original_rating_class  \\\n",
       "0                  got ta gps           0.9834                      1   \n",
       "1                disappointed          -0.3895                      0   \n",
       "2              1st impression           0.9853                      0   \n",
       "3      great grafics poor gps           0.1533                      0   \n",
       "4  major issue excuse support          -0.7845                      0   \n",
       "\n",
       "   Rating_Sent_vader  \n",
       "0                  1  \n",
       "1                  0  \n",
       "2                  1  \n",
       "3                  1  \n",
       "4                  0  "
      ]
     },
     "execution_count": 5,
     "metadata": {},
     "output_type": "execute_result"
    }
   ],
   "source": [
    "#Assumption to Predict rating based on the sentiment score: \n",
    "# Sentiment score between -1 and +1 \n",
    "#Original Rating class:\n",
    "    # 1 to 3 - bad - 0\n",
    "    # 4 to 5 - good -1\n",
    "#Sentiment score:\n",
    "    # -1 to 0 - bad - 0\n",
    "    #0 to 1 - good - 1\n",
    "#positive sentiment : (compound score >= 0.05)\n",
    "#neutral sentiment : (compound score > -0.05) and (compound score < 0.05)\n",
    "#negative sentiment : (compound score <= -0.05)\n",
    "\n",
    "# Prediction using Sentiment score\n",
    "ls_sen=sentiment(df_clean['Clean_Review_Text'])\n",
    "df_clean['Sentiment_Score']=ls_sen\n",
    "ls_Sent_Vader=[]\n",
    "for i in range(len(df_clean)):\n",
    "    if -1<=df_clean['Sentiment_Score'].iloc[i]<=0:\n",
    "        ls_Sent_Vader.append(0)\n",
    "    elif 0<df_clean['Sentiment_Score'].iloc[i]<=1:\n",
    "        ls_Sent_Vader.append(1)\n",
    "                   \n",
    "# Original rating classification:\n",
    "ls_rating_class=[]\n",
    "for i in range(len(df_clean)):\n",
    "    if 1<=df_clean['rating'].iloc[i]<=3:\n",
    "        ls_rating_class.append(0)\n",
    "    elif 3<df_clean['rating'].iloc[i]<=5:\n",
    "        ls_rating_class.append(1)    \n",
    "    else:\n",
    "        ls_rating_class.append(0)\n",
    "df_clean['original_rating_class']=ls_rating_class\n",
    "df_clean['Rating_Sent_vader']=ls_Sent_Vader\n",
    "df_clean['rating'].fillna(2.5,inplace=True)\n",
    "df_clean['rating']=df_clean['rating'].astype(int)\n",
    "from sklearn.metrics import confusion_matrix,accuracy_score\n",
    "print('Accuracy between original rating an Sentiment_vader_rating',round(accuracy_score(df_clean['original_rating_class'],df_clean['Rating_Sent_vader'])*100))\n",
    "df_clean.head()\n"
   ]
  },
  {
   "cell_type": "markdown",
   "metadata": {},
   "source": [
    "### Please do not refer below cell for eveluation, For practice only"
   ]
  },
  {
   "cell_type": "code",
   "execution_count": 7,
   "metadata": {},
   "outputs": [
    {
     "name": "stdout",
     "output_type": "stream",
     "text": [
      "LinerRegression 0.09333333333333334\n",
      "RandomForestRegressor 0.26666666666666666\n"
     ]
    }
   ],
   "source": [
    "def vector_Tfidf(df_col,grams_min,grams_max,max_fea):\n",
    "    tf=TfidfVectorizer(ngram_range=(grams_min,grams_max),max_features=max_fea)\n",
    "    tf_df=pd.DataFrame(tf.fit_transform(df_col).toarray(),columns=tf.get_feature_names())\n",
    "    return(tf_df)\n",
    "tf_df_ret=vector_Tfidf(df_clean['Clean_Review_Text'],2,2,1000)\n",
    "tf_df_ret['original_rating']=df_clean['rating']\n",
    "tf_df_ret['original_rating_class']=df_clean['original_rating_class']\n",
    "\n",
    "from sklearn.decomposition import PCA\n",
    "X=tf_df_ret[[i for i in tf_df_ret.columns if i not in ('original_rating','original_rating_class') ]]\n",
    "Y=tf_df_ret[['original_rating','original_rating_class']]\n",
    "pca=PCA(4)\n",
    "df_pca=pd.DataFrame(pca.fit_transform(X))\n",
    "df_pca.columns=['PCA1','PCA2','PCA3','PCA2']\n",
    "\n",
    "from sklearn.model_selection import train_test_split\n",
    "from sklearn.ensemble import RandomForestRegressor\n",
    "from sklearn.linear_model import LinearRegression\n",
    "n=100\n",
    "# For Rating 1 to 5\n",
    "x_train,x_test,y_train,y_test=train_test_split(X,Y['original_rating'],test_size=0.15,stratify=Y)\n",
    "rf=LinearRegression()\n",
    "rf.fit(x_train,y_train)\n",
    "y_test_pred=rf.predict(x_test)\n",
    "y_test_pred=y_test_pred.astype(int)\n",
    "print('LinerRegression',accuracy_score(y_test,y_test_pred))\n",
    "y_pred_original=rf.predict(X)\n",
    "tf_df_ret['predicted_rating']=y_pred_original\n",
    "\n",
    "# For Rating class 0 to 1\n",
    "x_train,x_test,y_train,y_test=train_test_split(X,Y['original_rating_class'],test_size=0.15,stratify=Y)\n",
    "rf=RandomForestRegressor()\n",
    "rf.fit(x_train,y_train)\n",
    "y_test_pred=rf.predict(x_test)\n",
    "y_test_pred=y_test_pred.astype(int)\n",
    "print('RandomForestRegressor',accuracy_score(y_test,y_test_pred))\n",
    "y_pred_original_class=rf.predict(X)\n",
    "tf_df_ret['predicted_class_rating']=y_pred_original_class\n"
   ]
  },
  {
   "cell_type": "markdown",
   "metadata": {},
   "source": [
    "### 4.Find customer concern areas - the top 25 bigrams which includes the below negative words indicating the customer concern areas 'poor', 'waste', 'bad', 'defective', 'disgusting', 'untrusty', 'worst', 'horrible', 'unexpectedly', 'slow'\n",
    "### 5.Plot a bar graph for the top 25 customer concern areas"
   ]
  },
  {
   "cell_type": "code",
   "execution_count": 50,
   "metadata": {},
   "outputs": [
    {
     "data": {
      "image/png": "[encoded data removed]",
      "text/plain": [
       "<Figure size 1440x360 with 1 Axes>"
      ]
     },
     "metadata": {
      "needs_background": "light"
     },
     "output_type": "display_data"
    }
   ],
   "source": [
    "#Customizing according to the requirement 'vector_count':\n",
    "def vector_count(df_col,grams_min,grams_max):\n",
    "    tf=CountVectorizer(ngram_range=(grams_min,grams_max))\n",
    "    tf_df=pd.DataFrame(tf.fit_transform(df_col).toarray(),columns=tf.get_feature_names())\n",
    "    return(tf_df)\n",
    "\n",
    "df_bigrams=vector_count(df_clean['Clean_Review_Text'],2,2)\n",
    "ls_concern_comumns=[]\n",
    "ls_concern=['poor', 'waste', 'bad', 'defective', 'disgusting', 'untrusty', 'worst', 'horrible', 'unexpectedly', 'slow']\n",
    "for i in df_bigrams.columns:\n",
    "    if (i.split()[0] in ls_concern) or (i.split()[0] in ls_concern): \n",
    "        ls_concern_comumns.append(i)\n",
    "df_bigrams_concern=df_bigrams[ls_concern_comumns]\n",
    "\n",
    "from matplotlib import pyplot as plt\n",
    "ls_sum=[]\n",
    "d={}\n",
    "plt.figure(figsize=(20,5))\n",
    "for i in df_bigrams_concern.columns:\n",
    "    #ls_sum.append(df_bigrams_concern[i].sum())\n",
    "    d[i]=df_bigrams_concern[i].sum()\n",
    "frame=pd.Series(d)\n",
    "frame_2=frame.sort_values(ascending=False)[0:25]\n",
    "from collections import OrderedDict    \n",
    "d2=dict(sorted(d.items(),reverse=True))    \n",
    "plt.bar(frame_2.index,frame_2.values)\n",
    "plt.xticks(rotation='vertical')\n",
    "plt.show()"
   ]
  }
 ],
 "metadata": {
  "kernelspec": {
   "display_name": "Python 3",
   "language": "python",
   "name": "python3"
  },
  "language_info": {
   "codemirror_mode": {
    "name": "ipython",
    "version": 3
   },
   "file_extension": ".py",
   "mimetype": "text/x-python",
   "name": "python",
   "nbconvert_exporter": "python",
   "pygments_lexer": "ipython3",
   "version": "3.7.3"
  }
 },
 "nbformat": 4,
 "nbformat_minor": 2
}
